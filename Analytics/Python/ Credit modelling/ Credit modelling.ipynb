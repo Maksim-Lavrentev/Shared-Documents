{
 "cells": [
  {
   "cell_type": "markdown",
   "metadata": {},
   "source": [
    "## Introduction\n",
    "\n",
    "In this project, we'll focus on modeling a borrower's credit risk. We'll be working with financial lending data from [Lending Club](https://www.lendingclub.com/). Lending Club is a marketplace for personal loans that matches borrowers who are seeking a loan with investors looking to lend money and make a return.\n",
    "\n",
    "Each borrower fills out a comprehensive application, providing their past financial history, the reason for the loan, and more. Lending Club evaluates each borrower's credit score using past historical data and assign an interest rate to the borrower. The interest rate is the percent in addition to the requested loan amount the borrower has to pay back. More info about the interest rate that Lending Club assigns is available [here](https://www.lendingclub.com/public/borrower-rates-and-fees.action). Lending Club also tries to verify each piece of information the borrower provides but it can't always verify all of the information (usually for regulation reasons).\n",
    "\n",
    "A higher interest rate means that the borrower is riskier and more unlikely to pay back the loan while a lower interest rate means that the borrower has a good credit history is more likely to pay back the loan. The interest rates range from 5.32% all the way to 30.99% and each borrower is given a grade according to the interest rate they were assigned. If the borrower accepts the interest rate, then the loan is listed on the Lending Club marketplace.\n",
    "\n",
    "Investors are primarily interested in receiving a return on their investments. Approved loans are listed on the Lending Club website, where qualified investors can browse recently approved loans, the borrower's credit score, the purpose for the loan, and other information from the application. Once they're ready to back a loan, they select the amount of money they want to fund. Once a loan's requested amount is fully funded, the borrower receives the money they requested minus the origination fee that Lending Club charges.\n",
    "\n",
    "The borrower then makes monthly payments back to Lending Club either over 36 months or over 60 months. Lending Club redistributes these payments to the investors. This means that investors don't have to wait until the full amount is paid off before they see a return in money. If a loan is fully paid off on time, the investors make a return which corresponds to the interest rate the borrower had to pay in addition to the requested amount. Many loans aren't completely paid off on time, however, and some borrowers default on the loan.\n",
    "\n",
    "Most investors use a portfolio strategy to invest small amounts in many loans, with healthy mixes of low, medium, and interest loans. In this project, we'll focus on the mindset of a conservative investor who only wants to invest in the loans that have a good chance of being paid off on time. To do that, we'll need to first understand the features in the dataset and then experiment with building machine learning models that reliably predict if a loan will be paid off or not.\n",
    "\n",
    "## Description of data and problem statement\n",
    "\n",
    "Lending Club releases data for all of the approved and declined loan applications periodically [on their website](https://www.lendingclub.com/info/download-data.action). \n",
    "\n",
    "There is also a [data dictionary](https://docs.google.com/spreadsheets/d/191B2yJ4H1ZPXq0_ByhUgWMFZOYem5jFz0Y3by_7YBY4/edit), which contains information on the different column names. The LoanStats sheet describes the approved loans datasets and the RejectStats describes the rejected loans datasets. Since rejected applications don't appear on the Lending Club marketplace and aren't available for investment, we'll be focusing on data on approved loans only.\n",
    "\n",
    "The approved loans datasets contain information on current loans, completed loans, and defaulted loans. Let's now define the problem statement for this machine learning project:\n",
    "\n",
    "**Can we build a machine learning model that can accurately predict if a borrower will pay off their loan on time or not?**\n",
    "\n",
    "Before we can start doing machine learning, we need to define what features we want to use and which column represents the target column we want to predict.\n",
    "\n",
    "We'll be analyzing approved loans data from 2007 to 2011, since a good number of the loans have already finished. In the datasets for later years, many of the loans are current and still being paid off.\n",
    "\n",
    "The sataset was reduced the size to make it easier to work with, by:\n",
    "\n",
    "- removing the desc column:<br>which contains a long text explanation for each loan\n",
    "- removing the url column:<br>which contains a link to each loan on Lending Club which can only be accessed with an investor account\n",
    "- removing all columns containing more than 50% missing values:<br>which allows us to move faster since we can spend less time trying to fill these values\n",
    "\n",
    "Let's read the data.\n",
    "\n",
    "## Getting familiar with the data"
   ]
  },
  {
   "cell_type": "code",
   "execution_count": 1,
   "metadata": {},
   "outputs": [
    {
     "name": "stderr",
     "output_type": "stream",
     "text": [
      "D:\\Anaconda3\\lib\\site-packages\\IPython\\core\\interactiveshell.py:3058: DtypeWarning: Columns (0) have mixed types. Specify dtype option on import or set low_memory=False.\n",
      "  interactivity=interactivity, compiler=compiler, result=result)\n"
     ]
    },
    {
     "data": {
      "text/plain": [
       "(42538, 52)"
      ]
     },
     "execution_count": 1,
     "metadata": {},
     "output_type": "execute_result"
    }
   ],
   "source": [
    "import pandas as pd\n",
    "df = pd.read_csv(\"loans_2007.csv\")\n",
    "loans_2007 = df.copy()\n",
    "loans_2007.drop_duplicates()\n",
    "loans_2007.shape"
   ]
  },
  {
   "cell_type": "markdown",
   "metadata": {},
   "source": [
    "We need to select only meaningful columns, in doing so we'll pay attention to any features that:\n",
    "\n",
    "- leak information from the future (after the loan has already been funded)\n",
    "- don't affect a borrower's ability to pay back a loan (e.g. a randomly generated ID value by Lending Club)\n",
    "- formatted poorly and need to be cleaned up\n",
    "- require more data or a lot of processing to turn into a useful feature\n",
    "- contain redundant information\n",
    "\n",
    "Let's look at the fields."
   ]
  },
  {
   "cell_type": "code",
   "execution_count": 2,
   "metadata": {},
   "outputs": [],
   "source": [
    "fields_description = pd.read_excel('LCDataDictionary.xlsx')\n",
    "fields = pd.concat([loans_2007.dtypes,loans_2007.iloc[0]],axis = 1).merge(fields_description,\n",
    "                                                                 left_index = True,\n",
    "                                                                 right_on = 'LoanStatNew',\n",
    "                                                                 how = 'left').set_index('LoanStatNew')\n",
    "fields.columns = ['type','example','description']\n",
    "# uncomment below to install tabulate\n",
    "# import sys\n",
    "# !{sys.executable} -m pip install tabulate\n",
    "\n",
    "# uncomment below to print markdown for the table\n",
    "# from tabulate import tabulate\n",
    "# print(tabulate(fields, headers=fields.columns, tablefmt=\"github\"))"
   ]
  },
  {
   "cell_type": "markdown",
   "metadata": {},
   "source": [
    "With the above code, we obtained the following table:\n",
    "\n",
    "|                            | type    | example         | description                                                                                                                                                                                              |\n",
    "|----------------------------|---------|-----------------|----------------------------------------------------------------------------------------------------------------------------------------------------------------------------------------------------------|\n",
    "| id                         | object  | 1077501         | A unique LC assigned ID for the loan listing.                                                                                                                                                            |\n",
    "| member_id                  | float64 | 1296599.0       | A unique LC assigned Id for the borrower member.                                                                                                                                                         |\n",
    "| loan_amnt                  | float64 | 5000.0          | The listed amount of the loan applied for by the borrower. If at some point in time, the credit department reduces the loan amount, then it will be reflected in this value.                             |\n",
    "| funded_amnt                | float64 | 5000.0          | The total amount committed to that loan at that point in time.                                                                                                                                           |\n",
    "| funded_amnt_inv            | float64 | 4975.0          | The total amount committed by investors for that loan at that point in time.                                                                                                                             |\n",
    "| term                       | object  | 36 months       | The number of payments on the loan. Values are in months and can be either 36 or 60.                                                                                                                     |\n",
    "| int_rate                   | object  | 10.65%          | Interest Rate on the loan                                                                                                                                                                                |\n",
    "| installment                | float64 | 162.87          | The monthly payment owed by the borrower if the loan originates.                                                                                                                                         |\n",
    "| grade                      | object  | B               | LC assigned loan grade                                                                                                                                                                                   |\n",
    "| sub_grade                  | object  | B2              | LC assigned loan subgrade                                                                                                                                                                                |\n",
    "| emp_title                  | object  | nan             | The job title supplied by the Borrower when applying for the loan.*                                                                                                                                      |\n",
    "| emp_length                 | object  | 10+ years       | Employment length in years. Possible values are between 0 and 10 where 0 means less than one year and 10 means ten or more years.                                                                        |\n",
    "| home_ownership             | object  | RENT            | The home ownership status provided by the borrower during registration. Our values are: RENT, OWN, MORTGAGE, OTHER.                                                                                      |\n",
    "| annual_inc                 | float64 | 24000.0         | The self-reported annual income provided by the borrower during registration.                                                                                                                            |\n",
    "| verification_status        | object  | Verified        | Indicates if income was verified by LC, not verified, or if the income source was verified                                                                                                               |\n",
    "| issue_d                    | object  | Dec-2011        | The month which the loan was funded                                                                                                                                                                      |\n",
    "| loan_status                | object  | Fully Paid      | Current status of the loan                                                                                                                                                                               |\n",
    "| pymnt_plan                 | object  | n               | Indicates if a payment plan has been put in place for the loan                                                                                                                                           |\n",
    "| purpose                    | object  | credit_card     | A category provided by the borrower for the loan request.                                                                                                                                                |\n",
    "| title                      | object  | Computer        | The loan title provided by the borrower                                                                                                                                                                  |\n",
    "| zip_code                   | object  | 860xx           | The first 3 numbers of the zip code provided by the borrower in the loan application.                                                                                                                    |\n",
    "| addr_state                 | object  | AZ              | The state provided by the borrower in the loan application                                                                                                                                               |\n",
    "| dti                        | float64 | 27.65           | A ratio calculated using the borrower’s total monthly debt payments on the total debt obligations, excluding mortgage and the requested LC loan, divided by the borrower’s self-reported monthly income. |\n",
    "| delinq_2yrs                | float64 | 0.0             | The number of 30+ days past-due incidences of delinquency in the borrower's credit file for the past 2 years                                                                                             |\n",
    "| earliest_cr_line           | object  | Jan-1985        | The month the borrower's earliest reported credit line was opened                                                                                                                                        |\n",
    "| inq_last_6mths             | float64 | 1.0             | The number of inquiries in past 6 months (excluding auto and mortgage inquiries)                                                                                                                         |\n",
    "| open_acc                   | float64 | 3.0             | The number of open credit lines in the borrower's credit file.                                                                                                                                           |\n",
    "| pub_rec                    | float64 | 0.0             | Number of derogatory public records                                                                                                                                                                      |\n",
    "| revol_bal                  | float64 | 13648.0         | Total credit revolving balance                                                                                                                                                                           |\n",
    "| revol_util                 | object  | 83.7%           | Revolving line utilization rate, or the amount of credit the borrower is using relative to all available revolving credit.                                                                               |\n",
    "| total_acc                  | float64 | 9.0             | The total number of credit lines currently in the borrower's credit file                                                                                                                                 |\n",
    "| initial_list_status        | object  | f               | The initial listing status of the loan. Possible values are – W, F                                                                                                                                       |\n",
    "| out_prncp                  | float64 | 0.0             | Remaining outstanding principal for total amount funded                                                                                                                                                  |\n",
    "| out_prncp_inv              | float64 | 0.0             | Remaining outstanding principal for portion of total amount funded by investors                                                                                                                          |\n",
    "| total_pymnt                | float64 | 5863.1551866952 | Payments received to date for total amount funded                                                                                                                                                        |\n",
    "| total_pymnt_inv            | float64 | 5833.84         | Payments received to date for portion of total amount funded by investors                                                                                                                                |\n",
    "| total_rec_prncp            | float64 | 5000.0          | Principal received to date                                                                                                                                                                               |\n",
    "| total_rec_int              | float64 | 863.16          | Interest received to date                                                                                                                                                                                |\n",
    "| total_rec_late_fee         | float64 | 0.0             | Late fees received to date                                                                                                                                                                               |\n",
    "| recoveries                 | float64 | 0.0             | post charge off gross recovery                                                                                                                                                                           |\n",
    "| collection_recovery_fee    | float64 | 0.0             | post charge off collection fee                                                                                                                                                                           |\n",
    "| last_pymnt_d               | object  | Jan-2015        | Last month payment was received                                                                                                                                                                          |\n",
    "| last_pymnt_amnt            | float64 | 171.62          | Last total payment amount received                                                                                                                                                                       |\n",
    "| last_credit_pull_d         | object  | Jun-2016        | The most recent month LC pulled credit for this loan                                                                                                                                                     |\n",
    "| collections_12_mths_ex_med | float64 | 0.0             | Number of collections in 12 months excluding medical collections                                                                                                                                         |\n",
    "| policy_code                | float64 | 1.0             | publicly available policy_code=1\n",
    "new products not publicly available policy_code=2                                                                                                                                                                                                          |\n",
    "| application_type           | object  | INDIVIDUAL      | Indicates whether the loan is an individual application or a joint application with two co-borrowers                                                                                                     |\n",
    "| acc_now_delinq             | float64 | 0.0             | The number of accounts on which the borrower is now delinquent.                                                                                                                                          |\n",
    "| chargeoff_within_12_mths   | float64 | 0.0             | Number of charge-offs within 12 months                                                                                                                                                                   |\n",
    "| delinq_amnt                | float64 | 0.0             | The past-due amount owed for the accounts on which the borrower is now delinquent.                                                                                                                       |\n",
    "| pub_rec_bankruptcies       | float64 | 0.0             | Number of public record bankruptcies                                                                                                                                                                     |\n",
    "| tax_liens                  | float64 | 0.0             | Number of tax liens                                                                                                                                                                                      |"
   ]
  },
  {
   "cell_type": "markdown",
   "metadata": {},
   "source": [
    "After analysis of the first few rows, we decide to drop the following columns:\n",
    "\n",
    "- id: randomly generated field by Lending Club for unique identification purposes only\n",
    "- member_id: also a randomly generated field by Lending Club for unique identification purposes only\n",
    "- funded_amnt: leaks data from the future (after the loan is already started to be funded)\n",
    "- funded_amnt_inv: also leaks data from the future (after the loan is already started to be funded)\n",
    "- grade: contains redundant information as the interest rate column (int_rate)\n",
    "- sub_grade: also contains redundant information as the interest rate column (int_rate)\n",
    "- emp_title: requires other data and a lot of processing to potentially be useful\n",
    "- issue_d: leaks data from the future (after the loan is already completely funded)\n",
    "\n",
    "Grade and sub_grade values are categorical, the int_rate column contains continuous values, which are better suited for machine learning"
   ]
  },
  {
   "cell_type": "code",
   "execution_count": 3,
   "metadata": {},
   "outputs": [],
   "source": [
    "loans_2007 = loans_2007.drop([\"id\", \"member_id\", \"funded_amnt\", \"funded_amnt_inv\", \"grade\", \"sub_grade\", \"emp_title\", \"issue_d\"], axis=1)"
   ]
  },
  {
   "cell_type": "markdown",
   "metadata": {},
   "source": [
    "Next, we'll drop these ones:\n",
    "\n",
    "- zip_code: redundant with the addr_state column since only the first 3 digits of the 5 digit zip code are visible (which only can be used to identify the state the borrower lives in)\n",
    "- out_prncp: leaks data from the future, (after the loan already started to be paid off)\n",
    "- out_prncp_inv: also leaks data from the future, (after the loan already started to be paid off)\n",
    "- total_pymnt: also leaks data from the future, (after the loan already started to be paid off)\n",
    "- total_pymnt_inv: also leaks data from the future, (after the loan already started to be paid off)\n",
    "- total_rec_prncp: also leaks data from the future, (after the loan already started to be paid off)"
   ]
  },
  {
   "cell_type": "code",
   "execution_count": 4,
   "metadata": {},
   "outputs": [],
   "source": [
    "loans_2007 = loans_2007.drop([\"zip_code\", \"out_prncp\", \"out_prncp_inv\", \"total_pymnt\", \"total_pymnt_inv\", \"total_rec_prncp\"], axis=1)"
   ]
  },
  {
   "cell_type": "markdown",
   "metadata": {},
   "source": [
    "Lastly, we see that the following fields also leak information initially not known to the investors:\n",
    "\n",
    "- total_rec_int\n",
    "- total_rec_late_fee\n",
    "- recoveries\n",
    "- collection_recovery_fee\n",
    "- last_pymnt_d\n",
    "- last_pymnt_amnt"
   ]
  },
  {
   "cell_type": "code",
   "execution_count": 5,
   "metadata": {},
   "outputs": [],
   "source": [
    "loans_2007 = loans_2007.drop([\"total_rec_int\", \"total_rec_late_fee\", \"recoveries\", \"collection_recovery_fee\", \"last_pymnt_d\", \"last_pymnt_amnt\"], axis=1)"
   ]
  },
  {
   "cell_type": "code",
   "execution_count": 6,
   "metadata": {},
   "outputs": [
    {
     "data": {
      "text/html": [
       "<div>\n",
       "<style scoped>\n",
       "    .dataframe tbody tr th:only-of-type {\n",
       "        vertical-align: middle;\n",
       "    }\n",
       "\n",
       "    .dataframe tbody tr th {\n",
       "        vertical-align: top;\n",
       "    }\n",
       "\n",
       "    .dataframe thead th {\n",
       "        text-align: right;\n",
       "    }\n",
       "</style>\n",
       "<table border=\"1\" class=\"dataframe\">\n",
       "  <thead>\n",
       "    <tr style=\"text-align: right;\">\n",
       "      <th></th>\n",
       "      <th>type</th>\n",
       "      <th>example</th>\n",
       "      <th>description</th>\n",
       "    </tr>\n",
       "    <tr>\n",
       "      <th>LoanStatNew</th>\n",
       "      <th></th>\n",
       "      <th></th>\n",
       "      <th></th>\n",
       "    </tr>\n",
       "  </thead>\n",
       "  <tbody>\n",
       "    <tr>\n",
       "      <td>loan_amnt</td>\n",
       "      <td>float64</td>\n",
       "      <td>5000</td>\n",
       "      <td>The listed amount of the loan applied for by t...</td>\n",
       "    </tr>\n",
       "    <tr>\n",
       "      <td>term</td>\n",
       "      <td>object</td>\n",
       "      <td>36 months</td>\n",
       "      <td>The number of payments on the loan. Values are...</td>\n",
       "    </tr>\n",
       "    <tr>\n",
       "      <td>int_rate</td>\n",
       "      <td>object</td>\n",
       "      <td>10.65%</td>\n",
       "      <td>Interest Rate on the loan</td>\n",
       "    </tr>\n",
       "    <tr>\n",
       "      <td>installment</td>\n",
       "      <td>float64</td>\n",
       "      <td>162.87</td>\n",
       "      <td>The monthly payment owed by the borrower if th...</td>\n",
       "    </tr>\n",
       "    <tr>\n",
       "      <td>emp_length</td>\n",
       "      <td>object</td>\n",
       "      <td>10+ years</td>\n",
       "      <td>Employment length in years. Possible values ar...</td>\n",
       "    </tr>\n",
       "    <tr>\n",
       "      <td>home_ownership</td>\n",
       "      <td>object</td>\n",
       "      <td>RENT</td>\n",
       "      <td>The home ownership status provided by the borr...</td>\n",
       "    </tr>\n",
       "    <tr>\n",
       "      <td>annual_inc</td>\n",
       "      <td>float64</td>\n",
       "      <td>24000</td>\n",
       "      <td>The self-reported annual income provided by th...</td>\n",
       "    </tr>\n",
       "    <tr>\n",
       "      <td>verification_status</td>\n",
       "      <td>object</td>\n",
       "      <td>Verified</td>\n",
       "      <td>Indicates if income was verified by LC, not ve...</td>\n",
       "    </tr>\n",
       "    <tr>\n",
       "      <td>loan_status</td>\n",
       "      <td>object</td>\n",
       "      <td>Fully Paid</td>\n",
       "      <td>Current status of the loan</td>\n",
       "    </tr>\n",
       "    <tr>\n",
       "      <td>pymnt_plan</td>\n",
       "      <td>object</td>\n",
       "      <td>n</td>\n",
       "      <td>Indicates if a payment plan has been put in pl...</td>\n",
       "    </tr>\n",
       "    <tr>\n",
       "      <td>purpose</td>\n",
       "      <td>object</td>\n",
       "      <td>credit_card</td>\n",
       "      <td>A category provided by the borrower for the lo...</td>\n",
       "    </tr>\n",
       "    <tr>\n",
       "      <td>title</td>\n",
       "      <td>object</td>\n",
       "      <td>Computer</td>\n",
       "      <td>The loan title provided by the borrower</td>\n",
       "    </tr>\n",
       "    <tr>\n",
       "      <td>addr_state</td>\n",
       "      <td>object</td>\n",
       "      <td>AZ</td>\n",
       "      <td>The state provided by the borrower in the loan...</td>\n",
       "    </tr>\n",
       "    <tr>\n",
       "      <td>dti</td>\n",
       "      <td>float64</td>\n",
       "      <td>27.65</td>\n",
       "      <td>A ratio calculated using the borrower’s total ...</td>\n",
       "    </tr>\n",
       "    <tr>\n",
       "      <td>delinq_2yrs</td>\n",
       "      <td>float64</td>\n",
       "      <td>0</td>\n",
       "      <td>The number of 30+ days past-due incidences of ...</td>\n",
       "    </tr>\n",
       "    <tr>\n",
       "      <td>earliest_cr_line</td>\n",
       "      <td>object</td>\n",
       "      <td>Jan-1985</td>\n",
       "      <td>The month the borrower's earliest reported cre...</td>\n",
       "    </tr>\n",
       "    <tr>\n",
       "      <td>inq_last_6mths</td>\n",
       "      <td>float64</td>\n",
       "      <td>1</td>\n",
       "      <td>The number of inquiries in past 6 months (excl...</td>\n",
       "    </tr>\n",
       "    <tr>\n",
       "      <td>open_acc</td>\n",
       "      <td>float64</td>\n",
       "      <td>3</td>\n",
       "      <td>The number of open credit lines in the borrowe...</td>\n",
       "    </tr>\n",
       "    <tr>\n",
       "      <td>pub_rec</td>\n",
       "      <td>float64</td>\n",
       "      <td>0</td>\n",
       "      <td>Number of derogatory public records</td>\n",
       "    </tr>\n",
       "    <tr>\n",
       "      <td>revol_bal</td>\n",
       "      <td>float64</td>\n",
       "      <td>13648</td>\n",
       "      <td>Total credit revolving balance</td>\n",
       "    </tr>\n",
       "    <tr>\n",
       "      <td>revol_util</td>\n",
       "      <td>object</td>\n",
       "      <td>83.7%</td>\n",
       "      <td>Revolving line utilization rate, or the amount...</td>\n",
       "    </tr>\n",
       "    <tr>\n",
       "      <td>total_acc</td>\n",
       "      <td>float64</td>\n",
       "      <td>9</td>\n",
       "      <td>The total number of credit lines currently in ...</td>\n",
       "    </tr>\n",
       "    <tr>\n",
       "      <td>initial_list_status</td>\n",
       "      <td>object</td>\n",
       "      <td>f</td>\n",
       "      <td>The initial listing status of the loan. Possib...</td>\n",
       "    </tr>\n",
       "    <tr>\n",
       "      <td>last_credit_pull_d</td>\n",
       "      <td>object</td>\n",
       "      <td>Jun-2016</td>\n",
       "      <td>The most recent month LC pulled credit for thi...</td>\n",
       "    </tr>\n",
       "    <tr>\n",
       "      <td>collections_12_mths_ex_med</td>\n",
       "      <td>float64</td>\n",
       "      <td>0</td>\n",
       "      <td>Number of collections in 12 months excluding m...</td>\n",
       "    </tr>\n",
       "    <tr>\n",
       "      <td>policy_code</td>\n",
       "      <td>float64</td>\n",
       "      <td>1</td>\n",
       "      <td>publicly available policy_code=1\\nnew products...</td>\n",
       "    </tr>\n",
       "    <tr>\n",
       "      <td>application_type</td>\n",
       "      <td>object</td>\n",
       "      <td>INDIVIDUAL</td>\n",
       "      <td>Indicates whether the loan is an individual ap...</td>\n",
       "    </tr>\n",
       "    <tr>\n",
       "      <td>acc_now_delinq</td>\n",
       "      <td>float64</td>\n",
       "      <td>0</td>\n",
       "      <td>The number of accounts on which the borrower i...</td>\n",
       "    </tr>\n",
       "    <tr>\n",
       "      <td>chargeoff_within_12_mths</td>\n",
       "      <td>float64</td>\n",
       "      <td>0</td>\n",
       "      <td>Number of charge-offs within 12 months</td>\n",
       "    </tr>\n",
       "    <tr>\n",
       "      <td>delinq_amnt</td>\n",
       "      <td>float64</td>\n",
       "      <td>0</td>\n",
       "      <td>The past-due amount owed for the accounts on w...</td>\n",
       "    </tr>\n",
       "    <tr>\n",
       "      <td>pub_rec_bankruptcies</td>\n",
       "      <td>float64</td>\n",
       "      <td>0</td>\n",
       "      <td>Number of public record bankruptcies</td>\n",
       "    </tr>\n",
       "    <tr>\n",
       "      <td>tax_liens</td>\n",
       "      <td>float64</td>\n",
       "      <td>0</td>\n",
       "      <td>Number of tax liens</td>\n",
       "    </tr>\n",
       "  </tbody>\n",
       "</table>\n",
       "</div>"
      ],
      "text/plain": [
       "                               type      example  \\\n",
       "LoanStatNew                                        \n",
       "loan_amnt                   float64         5000   \n",
       "term                         object    36 months   \n",
       "int_rate                     object       10.65%   \n",
       "installment                 float64       162.87   \n",
       "emp_length                   object    10+ years   \n",
       "home_ownership               object         RENT   \n",
       "annual_inc                  float64        24000   \n",
       "verification_status          object     Verified   \n",
       "loan_status                  object   Fully Paid   \n",
       "pymnt_plan                   object            n   \n",
       "purpose                      object  credit_card   \n",
       "title                        object     Computer   \n",
       "addr_state                   object           AZ   \n",
       "dti                         float64        27.65   \n",
       "delinq_2yrs                 float64            0   \n",
       "earliest_cr_line             object     Jan-1985   \n",
       "inq_last_6mths              float64            1   \n",
       "open_acc                    float64            3   \n",
       "pub_rec                     float64            0   \n",
       "revol_bal                   float64        13648   \n",
       "revol_util                   object        83.7%   \n",
       "total_acc                   float64            9   \n",
       "initial_list_status          object            f   \n",
       "last_credit_pull_d           object     Jun-2016   \n",
       "collections_12_mths_ex_med  float64            0   \n",
       "policy_code                 float64            1   \n",
       "application_type             object   INDIVIDUAL   \n",
       "acc_now_delinq              float64            0   \n",
       "chargeoff_within_12_mths    float64            0   \n",
       "delinq_amnt                 float64            0   \n",
       "pub_rec_bankruptcies        float64            0   \n",
       "tax_liens                   float64            0   \n",
       "\n",
       "                                                                  description  \n",
       "LoanStatNew                                                                    \n",
       "loan_amnt                   The listed amount of the loan applied for by t...  \n",
       "term                        The number of payments on the loan. Values are...  \n",
       "int_rate                                            Interest Rate on the loan  \n",
       "installment                 The monthly payment owed by the borrower if th...  \n",
       "emp_length                  Employment length in years. Possible values ar...  \n",
       "home_ownership              The home ownership status provided by the borr...  \n",
       "annual_inc                  The self-reported annual income provided by th...  \n",
       "verification_status         Indicates if income was verified by LC, not ve...  \n",
       "loan_status                                        Current status of the loan  \n",
       "pymnt_plan                  Indicates if a payment plan has been put in pl...  \n",
       "purpose                     A category provided by the borrower for the lo...  \n",
       "title                                 The loan title provided by the borrower  \n",
       "addr_state                  The state provided by the borrower in the loan...  \n",
       "dti                         A ratio calculated using the borrower’s total ...  \n",
       "delinq_2yrs                 The number of 30+ days past-due incidences of ...  \n",
       "earliest_cr_line            The month the borrower's earliest reported cre...  \n",
       "inq_last_6mths              The number of inquiries in past 6 months (excl...  \n",
       "open_acc                    The number of open credit lines in the borrowe...  \n",
       "pub_rec                                   Number of derogatory public records  \n",
       "revol_bal                                      Total credit revolving balance  \n",
       "revol_util                  Revolving line utilization rate, or the amount...  \n",
       "total_acc                   The total number of credit lines currently in ...  \n",
       "initial_list_status         The initial listing status of the loan. Possib...  \n",
       "last_credit_pull_d          The most recent month LC pulled credit for thi...  \n",
       "collections_12_mths_ex_med  Number of collections in 12 months excluding m...  \n",
       "policy_code                 publicly available policy_code=1\\nnew products...  \n",
       "application_type            Indicates whether the loan is an individual ap...  \n",
       "acc_now_delinq              The number of accounts on which the borrower i...  \n",
       "chargeoff_within_12_mths               Number of charge-offs within 12 months  \n",
       "delinq_amnt                 The past-due amount owed for the accounts on w...  \n",
       "pub_rec_bankruptcies                     Number of public record bankruptcies  \n",
       "tax_liens                                                 Number of tax liens  "
      ]
     },
     "execution_count": 6,
     "metadata": {},
     "output_type": "execute_result"
    }
   ],
   "source": [
    "fields_clean = fields.drop([\n",
    "    \"id\", \"member_id\", \"funded_amnt\", \"funded_amnt_inv\",\n",
    "    \"grade\", \"sub_grade\", \"emp_title\", \"issue_d\",\n",
    "    \"zip_code\", \"out_prncp\", \"out_prncp_inv\",\n",
    "    \"total_pymnt\", \"total_pymnt_inv\", \"total_rec_prncp\",\n",
    "    \"total_rec_int\", \"total_rec_late_fee\", \"recoveries\",\n",
    "    \"collection_recovery_fee\", \"last_pymnt_d\", \"last_pymnt_amnt\"\n",
    "                              ], axis = 0)\n",
    "fields_clean"
   ]
  },
  {
   "cell_type": "markdown",
   "metadata": {},
   "source": [
    "What we can see is that the installment value can be drrived from other loan parameters:"
   ]
  },
  {
   "cell_type": "code",
   "execution_count": 7,
   "metadata": {},
   "outputs": [
    {
     "data": {
      "text/plain": [
       "162.8660942181611"
      ]
     },
     "execution_count": 7,
     "metadata": {},
     "output_type": "execute_result"
    }
   ],
   "source": [
    "P = 5000   #principal amount borrowed\n",
    "I = 0.1065 #annual interest rate\n",
    "t = 12     #number of months in year\n",
    "n = 36     #number of monthly periods\n",
    "r = I / t  #periodic monthly interest rate\n",
    "\n",
    "(P * I) * ((1 + r)**n)/ (t *((1 + r)**n- 1))"
   ]
  },
  {
   "cell_type": "markdown",
   "metadata": {},
   "source": [
    "Let's see if the same formula is used for calculating installments for other loans.\n",
    "Before that we need to check null values. Next, we'll check 'int_rate' and 'term' fields for consistency of their format. After that, we'll check zero and negative installments."
   ]
  },
  {
   "cell_type": "code",
   "execution_count": 8,
   "metadata": {},
   "outputs": [
    {
     "data": {
      "text/plain": [
       "39786    NaN\n",
       "42536    NaN\n",
       "42537    NaN\n",
       "Name: int_rate, dtype: object"
      ]
     },
     "execution_count": 8,
     "metadata": {},
     "output_type": "execute_result"
    }
   ],
   "source": [
    "# check for null\n",
    "loans_2007[loans_2007['int_rate'].isnull()]['int_rate']"
   ]
  },
  {
   "cell_type": "code",
   "execution_count": 9,
   "metadata": {},
   "outputs": [
    {
     "data": {
      "text/plain": [
       "39786    NaN\n",
       "42536    NaN\n",
       "42537    NaN\n",
       "Name: int_rate, dtype: object"
      ]
     },
     "execution_count": 9,
     "metadata": {},
     "output_type": "execute_result"
    }
   ],
   "source": [
    "#check format consistency\n",
    "loans_2007[~loans_2007['int_rate'].str.match('\\s+\\d+\\.\\d+\\%').fillna(False)]['int_rate']"
   ]
  },
  {
   "cell_type": "code",
   "execution_count": 10,
   "metadata": {},
   "outputs": [
    {
     "data": {
      "text/plain": [
       " 36 months    31534\n",
       " 60 months    11001\n",
       "NaN               3\n",
       "Name: term, dtype: int64"
      ]
     },
     "execution_count": 10,
     "metadata": {},
     "output_type": "execute_result"
    }
   ],
   "source": [
    "#check format consistency\n",
    "loans_2007['term'].value_counts(dropna = False)"
   ]
  },
  {
   "cell_type": "markdown",
   "metadata": {},
   "source": [
    "Ok we only have 3 null values. The format seems to be consistent. Let's check zero ad negative values."
   ]
  },
  {
   "cell_type": "code",
   "execution_count": 11,
   "metadata": {},
   "outputs": [
    {
     "name": "stdout",
     "output_type": "stream",
     "text": [
      "zero values: 0\n",
      "negative values: 0\n"
     ]
    }
   ],
   "source": [
    "print('zero values:', (loans_2007['int_rate'] == 0).sum())\n",
    "print('negative values:', (loans_2007['int_rate'].str.extract('(\\s+\\d+\\.\\d+)').astype(float) < 0).sum()[0])"
   ]
  },
  {
   "cell_type": "markdown",
   "metadata": {},
   "source": [
    "We do not have zero and negative values. Let's calculate installments and compare."
   ]
  },
  {
   "cell_type": "code",
   "execution_count": 12,
   "metadata": {},
   "outputs": [],
   "source": [
    "import re\n",
    "import numpy as np\n",
    "\n",
    "def installment_calc(row, amnt = 'loan_amnt'):\n",
    "    t = 12\n",
    "    \n",
    "    try:\n",
    "        P = row[amnt]\n",
    "        I = float(re.search('(\\d*\\.\\d*)', row['int_rate']).group())/100\n",
    "        r = I / t\n",
    "        n = int(re.search('(\\d+)', row['term']).group())\n",
    "        installment = (P * I) * ((1 + r)**n)/ (t *((1 + r)**n- 1))\n",
    "    except:\n",
    "        installment = np.nan\n",
    "    return installment\n",
    "    \n",
    "installments_calculated = loans_2007.apply(installment_calc, axis = 1).round(2).rename('estimated')\n",
    "installments_comparison = pd.concat([loans_2007[['loan_amnt','int_rate','term', 'installment']], installments_calculated], axis = 1)"
   ]
  },
  {
   "cell_type": "code",
   "execution_count": 13,
   "metadata": {},
   "outputs": [
    {
     "data": {
      "text/html": [
       "<div>\n",
       "<style scoped>\n",
       "    .dataframe tbody tr th:only-of-type {\n",
       "        vertical-align: middle;\n",
       "    }\n",
       "\n",
       "    .dataframe tbody tr th {\n",
       "        vertical-align: top;\n",
       "    }\n",
       "\n",
       "    .dataframe thead th {\n",
       "        text-align: right;\n",
       "    }\n",
       "</style>\n",
       "<table border=\"1\" class=\"dataframe\">\n",
       "  <thead>\n",
       "    <tr style=\"text-align: right;\">\n",
       "      <th></th>\n",
       "      <th>loan_amnt</th>\n",
       "      <th>int_rate</th>\n",
       "      <th>term</th>\n",
       "      <th>installment</th>\n",
       "      <th>estimated</th>\n",
       "      <th>err</th>\n",
       "      <th>abs_perc_err</th>\n",
       "    </tr>\n",
       "  </thead>\n",
       "  <tbody>\n",
       "    <tr>\n",
       "      <td>61</td>\n",
       "      <td>17500.0</td>\n",
       "      <td>17.27%</td>\n",
       "      <td>60 months</td>\n",
       "      <td>223.74</td>\n",
       "      <td>437.46</td>\n",
       "      <td>213.72</td>\n",
       "      <td>0.955216</td>\n",
       "    </tr>\n",
       "    <tr>\n",
       "      <td>66</td>\n",
       "      <td>12500.0</td>\n",
       "      <td>17.27%</td>\n",
       "      <td>60 months</td>\n",
       "      <td>223.11</td>\n",
       "      <td>312.47</td>\n",
       "      <td>89.36</td>\n",
       "      <td>0.400520</td>\n",
       "    </tr>\n",
       "    <tr>\n",
       "      <td>70</td>\n",
       "      <td>20975.0</td>\n",
       "      <td>17.58%</td>\n",
       "      <td>60 months</td>\n",
       "      <td>341.63</td>\n",
       "      <td>527.85</td>\n",
       "      <td>186.22</td>\n",
       "      <td>0.545093</td>\n",
       "    </tr>\n",
       "    <tr>\n",
       "      <td>80</td>\n",
       "      <td>35000.0</td>\n",
       "      <td>17.27%</td>\n",
       "      <td>60 months</td>\n",
       "      <td>551.84</td>\n",
       "      <td>874.93</td>\n",
       "      <td>323.09</td>\n",
       "      <td>0.585478</td>\n",
       "    </tr>\n",
       "    <tr>\n",
       "      <td>96</td>\n",
       "      <td>20000.0</td>\n",
       "      <td>11.71%</td>\n",
       "      <td>60 months</td>\n",
       "      <td>282.86</td>\n",
       "      <td>441.96</td>\n",
       "      <td>159.10</td>\n",
       "      <td>0.562469</td>\n",
       "    </tr>\n",
       "    <tr>\n",
       "      <td>...</td>\n",
       "      <td>...</td>\n",
       "      <td>...</td>\n",
       "      <td>...</td>\n",
       "      <td>...</td>\n",
       "      <td>...</td>\n",
       "      <td>...</td>\n",
       "      <td>...</td>\n",
       "    </tr>\n",
       "    <tr>\n",
       "      <td>42463</td>\n",
       "      <td>25000.0</td>\n",
       "      <td>15.33%</td>\n",
       "      <td>36 months</td>\n",
       "      <td>332.60</td>\n",
       "      <td>870.68</td>\n",
       "      <td>538.08</td>\n",
       "      <td>1.617799</td>\n",
       "    </tr>\n",
       "    <tr>\n",
       "      <td>42464</td>\n",
       "      <td>25000.0</td>\n",
       "      <td>16.91%</td>\n",
       "      <td>36 months</td>\n",
       "      <td>489.61</td>\n",
       "      <td>890.20</td>\n",
       "      <td>400.59</td>\n",
       "      <td>0.818182</td>\n",
       "    </tr>\n",
       "    <tr>\n",
       "      <td>42495</td>\n",
       "      <td>7200.0</td>\n",
       "      <td>10.28%</td>\n",
       "      <td>36 months</td>\n",
       "      <td>164.42</td>\n",
       "      <td>233.27</td>\n",
       "      <td>68.85</td>\n",
       "      <td>0.418745</td>\n",
       "    </tr>\n",
       "    <tr>\n",
       "      <td>42500</td>\n",
       "      <td>15600.0</td>\n",
       "      <td>11.86%</td>\n",
       "      <td>36 months</td>\n",
       "      <td>265.17</td>\n",
       "      <td>517.10</td>\n",
       "      <td>251.93</td>\n",
       "      <td>0.950070</td>\n",
       "    </tr>\n",
       "    <tr>\n",
       "      <td>42503</td>\n",
       "      <td>10500.0</td>\n",
       "      <td>16.91%</td>\n",
       "      <td>36 months</td>\n",
       "      <td>142.43</td>\n",
       "      <td>373.88</td>\n",
       "      <td>231.45</td>\n",
       "      <td>1.625009</td>\n",
       "    </tr>\n",
       "  </tbody>\n",
       "</table>\n",
       "<p>1997 rows × 7 columns</p>\n",
       "</div>"
      ],
      "text/plain": [
       "       loan_amnt int_rate        term  installment  estimated     err  \\\n",
       "61       17500.0   17.27%   60 months       223.74     437.46  213.72   \n",
       "66       12500.0   17.27%   60 months       223.11     312.47   89.36   \n",
       "70       20975.0   17.58%   60 months       341.63     527.85  186.22   \n",
       "80       35000.0   17.27%   60 months       551.84     874.93  323.09   \n",
       "96       20000.0   11.71%   60 months       282.86     441.96  159.10   \n",
       "...          ...      ...         ...          ...        ...     ...   \n",
       "42463    25000.0   15.33%   36 months       332.60     870.68  538.08   \n",
       "42464    25000.0   16.91%   36 months       489.61     890.20  400.59   \n",
       "42495     7200.0   10.28%   36 months       164.42     233.27   68.85   \n",
       "42500    15600.0   11.86%   36 months       265.17     517.10  251.93   \n",
       "42503    10500.0   16.91%   36 months       142.43     373.88  231.45   \n",
       "\n",
       "       abs_perc_err  \n",
       "61         0.955216  \n",
       "66         0.400520  \n",
       "70         0.545093  \n",
       "80         0.585478  \n",
       "96         0.562469  \n",
       "...             ...  \n",
       "42463      1.617799  \n",
       "42464      0.818182  \n",
       "42495      0.418745  \n",
       "42500      0.950070  \n",
       "42503      1.625009  \n",
       "\n",
       "[1997 rows x 7 columns]"
      ]
     },
     "execution_count": 13,
     "metadata": {},
     "output_type": "execute_result"
    }
   ],
   "source": [
    "installments_comparison['err'] = installments_comparison['estimated'] - installments_comparison['installment']\n",
    "installments_comparison['abs_perc_err'] = installments_comparison['err'].abs() / installments_comparison['installment']\n",
    "installments_comparison[installments_comparison['abs_perc_err'] > 0.01]"
   ]
  },
  {
   "cell_type": "code",
   "execution_count": 14,
   "metadata": {},
   "outputs": [
    {
     "data": {
      "text/plain": [
       "(-0.001, 0.01]    0.953050\n",
       "(0.01, 0.1]       0.002516\n",
       "(0.1, 1.0]        0.042295\n",
       "(1.0, 8.876]      0.002139\n",
       "Name: category, dtype: float64"
      ]
     },
     "execution_count": 14,
     "metadata": {},
     "output_type": "execute_result"
    }
   ],
   "source": [
    "installments_comparison['category'] = pd.cut(x=installments_comparison['abs_perc_err'],\n",
    "       bins=[0, 0.01, 0.1, 1, installments_comparison['abs_perc_err'].max()],include_lowest = True)\n",
    "installments_comparison['category'].value_counts(normalize = True).sort_index()"
   ]
  },
  {
   "cell_type": "code",
   "execution_count": 15,
   "metadata": {},
   "outputs": [
    {
     "data": {
      "text/plain": [
       "1997"
      ]
     },
     "execution_count": 15,
     "metadata": {},
     "output_type": "execute_result"
    }
   ],
   "source": [
    "(installments_comparison['abs_perc_err'] > 0.01).sum()"
   ]
  },
  {
   "cell_type": "markdown",
   "metadata": {},
   "source": [
    "We see almost 5% of rows that contain completely different installment values. Most of them are different by 10-100%. One of the reason for deviation is that the approved loan might be less than requested. Let's confirm this hypothesis. Because we've already dropped the funded_amnt field, we have to use original dataframe."
   ]
  },
  {
   "cell_type": "code",
   "execution_count": 16,
   "metadata": {},
   "outputs": [
    {
     "data": {
      "text/plain": [
       "2000"
      ]
     },
     "execution_count": 16,
     "metadata": {},
     "output_type": "execute_result"
    }
   ],
   "source": [
    "(df['loan_amnt'] != df['funded_amnt']).sum()"
   ]
  },
  {
   "cell_type": "code",
   "execution_count": 17,
   "metadata": {},
   "outputs": [],
   "source": [
    "installments_funded = df.apply(installment_calc, axis = 1, amnt = 'funded_amnt').round(2)"
   ]
  },
  {
   "cell_type": "code",
   "execution_count": 18,
   "metadata": {},
   "outputs": [
    {
     "data": {
      "text/plain": [
       "(-0.001, 0.01]    42522\n",
       "(0.01, 0.1]           7\n",
       "(0.1, 1.0]            6\n",
       "dtype: int64"
      ]
     },
     "execution_count": 18,
     "metadata": {},
     "output_type": "execute_result"
    }
   ],
   "source": [
    "installments_funded_err = (installments_funded - df['installment']).abs() / df['installment']\n",
    "pd.cut(installments_funded_err,\n",
    "       bins=[0, 0.01, 0.1, 1],\n",
    "       include_lowest = True).value_counts().sort_index()"
   ]
  },
  {
   "cell_type": "markdown",
   "metadata": {},
   "source": [
    "Indeed, that was the problem. We still see that our calculation have not worked with 11 rows, But now it can be seen as noize. Overall, we confirmed our hypothesis. We can say that the method for installment calculation is universal for all borrowers. However, because we dropped 'funded_amnt' field previously as not relevant (we want to predict if the borrower will pay off before funding his loan), we should drop this field or change it to the estimated value. Let's change to estimated value - this might be useful."
   ]
  },
  {
   "cell_type": "code",
   "execution_count": 19,
   "metadata": {},
   "outputs": [],
   "source": [
    "loans_2007['installment'] = installments_calculated"
   ]
  },
  {
   "cell_type": "markdown",
   "metadata": {},
   "source": [
    "Looking at the fields, we see that loan_status can be used as our target."
   ]
  },
  {
   "cell_type": "code",
   "execution_count": 20,
   "metadata": {},
   "outputs": [
    {
     "data": {
      "text/plain": [
       "Fully Paid                                             33136\n",
       "Charged Off                                             5634\n",
       "Does not meet the credit policy. Status:Fully Paid      1988\n",
       "Current                                                  961\n",
       "Does not meet the credit policy. Status:Charged Off      761\n",
       "Late (31-120 days)                                        24\n",
       "In Grace Period                                           20\n",
       "Late (16-30 days)                                          8\n",
       "Default                                                    3\n",
       "Name: loan_status, dtype: int64"
      ]
     },
     "execution_count": 20,
     "metadata": {},
     "output_type": "execute_result"
    }
   ],
   "source": [
    "loans_2007[\"loan_status\"].value_counts()"
   ]
  },
  {
   "cell_type": "markdown",
   "metadata": {},
   "source": [
    "We have 8 different values for this field, their descriptions are available at [Lending Club webste](https://help.lendingclub.com/hc/en-us/articles/215488038-What-do-the-different-Note-statuses-mean-). The ones that start with \"Does not meet the credit policy\" aren't explained, however. Some information about such cases can be found [here](http://www.lendacademy.com/forum/index.php?topic=2427.msg20813#msg20813).\n",
    "\n",
    "Here are the descriptions for the values:\n",
    "\n",
    "| Loan Status | Count | Meaning |\n",
    "| --- | --- | --- |\n",
    "| Fully Paid | 33136 | Loan has been fully paid off. |\n",
    "| Charged Off | 5634 | Loan for which there is no longer a reasonable expectation of further payments. |\n",
    "| Does not meet the credit policy. Status:Fully Paid | 1988 | While the loan was paid off, the loan application today would no longer meet the credit policy and wouldn't be approved on to the marketplace. |\n",
    "| Does not meet the credit policy. Status:Charged Off | 761 | While the loan was charged off, the loan application today would no longer meet the credit policy and wouldn't be approved on to the marketplace. |\n",
    "| In Grace Period | 20 | The loan is past due but still in the grace period of 15 days. |\n",
    "| Late (16-30 days) | 8 | Loan hasn't been paid in 16 to 30 days (late on the current payment). |\n",
    "| Late (31-120 days) | 24 | Loan hasn't been paid in 31 to 120 days (late on the current payment). |\n",
    "Current | 961 | Loan is up to date on current payments. |\n",
    "| Default | 3 | Loan is defaulted on and no payment has been made for more than 121 days. |\n",
    "\n",
    "We see that Fully Paid and Charged Off values can be used to fulfill our task. All other labels are not relevant as they  indicate that either the debt has not been payed off yet, or that such loans will not be approved in the future. We can skip Default label as well because there are only 3 such rows and there is still chance that these people will pay for their debt in the future. \n",
    "\n",
    "Therefore, we should drop all the statuses other than Fully Paid and Charged Off. We'll assign them values 1 and 0, respectively."
   ]
  },
  {
   "cell_type": "code",
   "execution_count": 21,
   "metadata": {},
   "outputs": [],
   "source": [
    "loans_2007 = loans_2007[(loans_2007['loan_status'] == \"Fully Paid\") | (loans_2007['loan_status'] == \"Charged Off\")]\n",
    "\n",
    "status_replace = {\n",
    "    \"loan_status\" : {\n",
    "        \"Fully Paid\": 1,\n",
    "        \"Charged Off\": 0,\n",
    "    }\n",
    "}\n",
    "\n",
    "loans_2007 = loans_2007.replace(status_replace)"
   ]
  },
  {
   "cell_type": "markdown",
   "metadata": {},
   "source": [
    "Let's drop all columns with less than 2 labels excluding null."
   ]
  },
  {
   "cell_type": "code",
   "execution_count": 22,
   "metadata": {},
   "outputs": [
    {
     "data": {
      "text/plain": [
       "9"
      ]
     },
     "execution_count": 22,
     "metadata": {},
     "output_type": "execute_result"
    }
   ],
   "source": [
    "def n_unique(col):\n",
    "    return(len(col.dropna().unique()))\n",
    "\n",
    "unique_count = loans_2007.apply(n_unique)\n",
    "cols_to_drop = unique_count[unique_count < 2].index\n",
    "cols_to_drop.shape[0]"
   ]
  },
  {
   "cell_type": "code",
   "execution_count": 23,
   "metadata": {},
   "outputs": [],
   "source": [
    "loans_2007 = loans_2007.drop(cols_to_drop, axis = 1)"
   ]
  },
  {
   "cell_type": "code",
   "execution_count": 24,
   "metadata": {},
   "outputs": [
    {
     "data": {
      "text/plain": [
       "23"
      ]
     },
     "execution_count": 24,
     "metadata": {},
     "output_type": "execute_result"
    }
   ],
   "source": [
    "loans_2007.shape[1]"
   ]
  },
  {
   "cell_type": "markdown",
   "metadata": {},
   "source": [
    "We are left with only 23 columns now.\n",
    "\n",
    "## Preparing the features\n",
    "\n",
    "Let's analyze null values in the dataset."
   ]
  },
  {
   "cell_type": "code",
   "execution_count": 25,
   "metadata": {},
   "outputs": [
    {
     "data": {
      "image/png": "[encoded data removed]",
      "text/plain": [
       "<Figure size 1224x504 with 1 Axes>"
      ]
     },
     "metadata": {
      "needs_background": "light"
     },
     "output_type": "display_data"
    }
   ],
   "source": [
    "import seaborn as sns\n",
    "import matplotlib.pyplot as plt\n",
    "%matplotlib inline\n",
    "fig,ax = plt.subplots(figsize = (17,7))\n",
    "sns.heatmap((loans_2007.isnull() == False).T, ax = ax, cbar=False)\n",
    "plt.suptitle('Nulls in dataset')\n",
    "plt.show()"
   ]
  },
  {
   "cell_type": "code",
   "execution_count": 26,
   "metadata": {},
   "outputs": [
    {
     "data": {
      "text/plain": [
       "emp_length              1036\n",
       "pub_rec_bankruptcies     697\n",
       "revol_util                50\n",
       "title                     11\n",
       "last_credit_pull_d         2\n",
       "dtype: int64"
      ]
     },
     "execution_count": 26,
     "metadata": {},
     "output_type": "execute_result"
    }
   ],
   "source": [
    "null_counts = loans_2007.isnull().sum().sort_values(ascending = False)\n",
    "null_counts[null_counts > 0]"
   ]
  },
  {
   "cell_type": "markdown",
   "metadata": {},
   "source": [
    "Most of the columns have no missing values; however, 3 columns have 50 or less rows with missing values, and 2 columns, emp_length and pub_rec_bankruptcies, contain a relatively high amount of missing values.\n",
    "\n",
    "It is obvious that employment length is frequently used in assessing how risky a potential borrower is - we'll keep this column.\n",
    "\n",
    "Let's inspect the values of the column pub_rec_bankruptcies."
   ]
  },
  {
   "cell_type": "code",
   "execution_count": 27,
   "metadata": {},
   "outputs": [
    {
     "data": {
      "text/plain": [
       "0.0    0.939438\n",
       "1.0    0.042456\n",
       "NaN    0.017978\n",
       "2.0    0.000129\n",
       "Name: pub_rec_bankruptcies, dtype: float64"
      ]
     },
     "execution_count": 27,
     "metadata": {},
     "output_type": "execute_result"
    }
   ],
   "source": [
    "loans_2007['pub_rec_bankruptcies'].value_counts(normalize=True, dropna=False)"
   ]
  },
  {
   "cell_type": "markdown",
   "metadata": {},
   "source": [
    "We see there low variability. Let's keep this column and fill nas with 0 - most frequent value."
   ]
  },
  {
   "cell_type": "code",
   "execution_count": 28,
   "metadata": {},
   "outputs": [],
   "source": [
    "loans_2007['pub_rec_bankruptcies'] = loans_2007['pub_rec_bankruptcies'].fillna(0)"
   ]
  },
  {
   "cell_type": "markdown",
   "metadata": {},
   "source": [
    "Let's remove the rest missing values."
   ]
  },
  {
   "cell_type": "code",
   "execution_count": 29,
   "metadata": {},
   "outputs": [],
   "source": [
    "loans_2007 = loans_2007.dropna(axis = 0)"
   ]
  },
  {
   "cell_type": "code",
   "execution_count": 30,
   "metadata": {},
   "outputs": [
    {
     "data": {
      "text/plain": [
       "object     11\n",
       "float64    11\n",
       "int64       1\n",
       "dtype: int64"
      ]
     },
     "execution_count": 30,
     "metadata": {},
     "output_type": "execute_result"
    }
   ],
   "source": [
    "loans_2007.dtypes.value_counts()"
   ]
  },
  {
   "cell_type": "markdown",
   "metadata": {},
   "source": [
    "Let's analyze object fields."
   ]
  },
  {
   "cell_type": "code",
   "execution_count": 31,
   "metadata": {},
   "outputs": [
    {
     "data": {
      "text/plain": [
       "term                     36 months\n",
       "int_rate                    10.65%\n",
       "emp_length               10+ years\n",
       "home_ownership                RENT\n",
       "verification_status       Verified\n",
       "purpose                credit_card\n",
       "title                     Computer\n",
       "addr_state                      AZ\n",
       "earliest_cr_line          Jan-1985\n",
       "revol_util                   83.7%\n",
       "last_credit_pull_d        Jun-2016\n",
       "Name: 0, dtype: object"
      ]
     },
     "execution_count": 31,
     "metadata": {},
     "output_type": "execute_result"
    }
   ],
   "source": [
    "object_columns_df = loans_2007.select_dtypes(include=[\"object\"])\n",
    "object_columns_df.iloc[0]"
   ]
  },
  {
   "cell_type": "code",
   "execution_count": 32,
   "metadata": {},
   "outputs": [
    {
     "data": {
      "text/plain": [
       "term                       2\n",
       "int_rate                 371\n",
       "emp_length                11\n",
       "home_ownership             5\n",
       "verification_status        3\n",
       "purpose                   14\n",
       "title                  18881\n",
       "addr_state                50\n",
       "earliest_cr_line         514\n",
       "revol_util              1086\n",
       "last_credit_pull_d       107\n",
       "dtype: int64"
      ]
     },
     "execution_count": 32,
     "metadata": {},
     "output_type": "execute_result"
    }
   ],
   "source": [
    "object_columns_df.apply(n_unique)"
   ]
  },
  {
   "cell_type": "markdown",
   "metadata": {},
   "source": [
    "We'll convert int_rate, term and revol_util to numbers."
   ]
  },
  {
   "cell_type": "code",
   "execution_count": 33,
   "metadata": {},
   "outputs": [],
   "source": [
    "loans_2007['int_rate'] = loans_2007['int_rate'].str.extract('(\\d+\\.?\\d*)').astype(float)/100\n",
    "loans_2007['term'] = loans_2007['term'].str.extract('(\\d+)').astype(int)\n",
    "loans_2007['revol_util'] = loans_2007['revol_util'].str.extract('(\\d+\\.?\\d*)').astype(float)/100"
   ]
  },
  {
   "cell_type": "code",
   "execution_count": 34,
   "metadata": {},
   "outputs": [
    {
     "data": {
      "text/plain": [
       "emp_length               10+ years\n",
       "home_ownership                RENT\n",
       "verification_status       Verified\n",
       "purpose                credit_card\n",
       "title                     Computer\n",
       "addr_state                      AZ\n",
       "earliest_cr_line          Jan-1985\n",
       "last_credit_pull_d        Jun-2016\n",
       "Name: 0, dtype: object"
      ]
     },
     "execution_count": 34,
     "metadata": {},
     "output_type": "execute_result"
    }
   ],
   "source": [
    "object_columns_df = loans_2007.select_dtypes(include=[\"object\"])\n",
    "object_columns_df.iloc[0]"
   ]
  },
  {
   "cell_type": "markdown",
   "metadata": {},
   "source": [
    "Let's convert date fields to a float range variable."
   ]
  },
  {
   "cell_type": "code",
   "execution_count": 35,
   "metadata": {},
   "outputs": [],
   "source": [
    "loans_2007['earliest_cr_line'].astype('datetime64[ns]').min()\n",
    "\n",
    "def dt_convert(s):\n",
    "    s = s.astype('datetime64[ns]')\n",
    "    return (s.max() - s) / (s.max() - s.min())"
   ]
  },
  {
   "cell_type": "code",
   "execution_count": 36,
   "metadata": {},
   "outputs": [
    {
     "data": {
      "text/plain": [
       "<matplotlib.axes._subplots.AxesSubplot at 0x23c0c2cd7c8>"
      ]
     },
     "execution_count": 36,
     "metadata": {},
     "output_type": "execute_result"
    },
    {
     "data": {
      "image/png": "[encoded data removed]",
      "text/plain": [
       "<Figure size 432x288 with 1 Axes>"
      ]
     },
     "metadata": {
      "needs_background": "light"
     },
     "output_type": "display_data"
    }
   ],
   "source": [
    "loans_2007['earliest_cr_line'] = dt_convert(loans_2007['earliest_cr_line'])\n",
    "loans_2007['earliest_cr_line'].plot.hist()"
   ]
  },
  {
   "cell_type": "code",
   "execution_count": 37,
   "metadata": {},
   "outputs": [
    {
     "data": {
      "text/plain": [
       "<matplotlib.axes._subplots.AxesSubplot at 0x23c08b44148>"
      ]
     },
     "execution_count": 37,
     "metadata": {},
     "output_type": "execute_result"
    },
    {
     "data": {
      "image/png": "[encoded data removed]",
      "text/plain": [
       "<Figure size 432x288 with 1 Axes>"
      ]
     },
     "metadata": {
      "needs_background": "light"
     },
     "output_type": "display_data"
    }
   ],
   "source": [
    "loans_2007['last_credit_pull_d'] = dt_convert(loans_2007['last_credit_pull_d'])\n",
    "loans_2007['last_credit_pull_d'].plot.hist()"
   ]
  },
  {
   "cell_type": "markdown",
   "metadata": {},
   "source": [
    "We converted the date columns to float representation with lower values identifying more recent dates. Let's analyze emp_length field."
   ]
  },
  {
   "cell_type": "code",
   "execution_count": 38,
   "metadata": {},
   "outputs": [
    {
     "data": {
      "text/plain": [
       "10+ years    8545\n",
       "< 1 year     4513\n",
       "2 years      4303\n",
       "3 years      4022\n",
       "4 years      3353\n",
       "5 years      3202\n",
       "1 year       3176\n",
       "6 years      2177\n",
       "7 years      1714\n",
       "8 years      1442\n",
       "9 years      1228\n",
       "Name: emp_length, dtype: int64"
      ]
     },
     "execution_count": 38,
     "metadata": {},
     "output_type": "execute_result"
    }
   ],
   "source": [
    "loans_2007['emp_length'].value_counts()"
   ]
  },
  {
   "cell_type": "code",
   "execution_count": 39,
   "metadata": {},
   "outputs": [
    {
     "data": {
      "text/plain": [
       "Text(0.5, 1.0, 'Share of payed off loans')"
      ]
     },
     "execution_count": 39,
     "metadata": {},
     "output_type": "execute_result"
    },
    {
     "data": {
      "image/png": "[encoded data removed]",
      "text/plain": [
       "<Figure size 576x288 with 2 Axes>"
      ]
     },
     "metadata": {
      "needs_background": "light"
     },
     "output_type": "display_data"
    }
   ],
   "source": [
    "order = [\"10+ years\", \"9 years\", \"8 years\", \"7 years\",\n",
    " \"6 years\", \"5 years\", \"4 years\", \"3 years\",\n",
    " \"2 years\", \"1 year\", \"< 1 year\"]\n",
    "yrs_ctab = pd.crosstab(loans_2007['emp_length'], loans_2007['loan_status']).reindex(order)\n",
    "fig, axs = plt.subplots(ncols = 2, sharey = True, figsize = (8,4))\n",
    "yrs_ctab.plot.barh(ax = axs[0])\n",
    "axs[0].set_title('Loan request frequency')\n",
    "(yrs_ctab[1] / yrs_ctab.sum(axis = 1)).plot.barh(ax = axs[1])\n",
    "axs[1].set_title('Share of payed off loans')"
   ]
  },
  {
   "cell_type": "markdown",
   "metadata": {},
   "source": [
    "In the above distributions we see that there's high demand for loans coming from younger people. The share of payed off loans fluctuates a bit, but stays at relatively same level. Let's convert this field to numeric."
   ]
  },
  {
   "cell_type": "code",
   "execution_count": 40,
   "metadata": {},
   "outputs": [],
   "source": [
    "mapping_dict = {\n",
    "    \"emp_length\": {\n",
    "        \"10+ years\": 10,\n",
    "        \"9 years\": 9,\n",
    "        \"8 years\": 8,\n",
    "        \"7 years\": 7,\n",
    "        \"6 years\": 6,\n",
    "        \"5 years\": 5,\n",
    "        \"4 years\": 4,\n",
    "        \"3 years\": 3,\n",
    "        \"2 years\": 2,\n",
    "        \"1 year\": 1,\n",
    "        \"< 1 year\": 0,\n",
    "        \"n/a\": 0\n",
    "    }\n",
    "}\n",
    "\n",
    "loans_2007 = loans_2007.replace(mapping_dict)"
   ]
  },
  {
   "cell_type": "code",
   "execution_count": 41,
   "metadata": {},
   "outputs": [
    {
     "data": {
      "text/plain": [
       "Text(0.5, 1.0, 'Share of payed off loans')"
      ]
     },
     "execution_count": 41,
     "metadata": {},
     "output_type": "execute_result"
    },
    {
     "data": {
      "image/png": "[encoded data removed]",
      "text/plain": [
       "<Figure size 576x864 with 2 Axes>"
      ]
     },
     "metadata": {
      "needs_background": "light"
     },
     "output_type": "display_data"
    }
   ],
   "source": [
    "loans_2007[\"addr_state\"].value_counts()\n",
    "\n",
    "state_ctab = pd.crosstab(loans_2007['addr_state'], loans_2007['loan_status'])\n",
    "state_ctab['share'] = state_ctab[1] / state_ctab.sum(axis = 1)\n",
    "state_ctab = state_ctab.sort_values(by = 'share')\n",
    "fig, axs = plt.subplots(ncols = 2, sharey = True, figsize = (8,12))\n",
    "state_ctab[[0,1]].plot.barh(ax = axs[0])\n",
    "axs[0].set_title('Loan request frequency')\n",
    "state_ctab['share'].plot.barh(ax = axs[1])\n",
    "axs[1].set_title('Share of payed off loans')"
   ]
  },
  {
   "cell_type": "markdown",
   "metadata": {},
   "source": [
    "There's too many values. However, we see that the share of the payed off loans changes from state to state. We can clusterize these states based on their loan performance. Let's keep this column and test how it affects performance of a classification model separately."
   ]
  },
  {
   "cell_type": "code",
   "execution_count": 42,
   "metadata": {},
   "outputs": [],
   "source": [
    "states = loans_2007[\"addr_state\"]"
   ]
  },
  {
   "cell_type": "code",
   "execution_count": 43,
   "metadata": {},
   "outputs": [],
   "source": [
    "loans_2007 = loans_2007.drop(\"addr_state\", axis = 1)"
   ]
  },
  {
   "cell_type": "markdown",
   "metadata": {},
   "source": [
    "We will also drop title column as it has too many distinct labels and repetitions. Purpose field has similar information and much fewer instances."
   ]
  },
  {
   "cell_type": "code",
   "execution_count": 44,
   "metadata": {},
   "outputs": [],
   "source": [
    "loans_2007 = loans_2007.drop('title', axis = 1)"
   ]
  },
  {
   "cell_type": "markdown",
   "metadata": {},
   "source": [
    "## Predicting the pay off\n",
    "\n",
    "The first model that we'll use will be logistic classifier. Before we start, however, we need to transform some of categorical variables to dummy because it will improve the model's performance."
   ]
  },
  {
   "cell_type": "code",
   "execution_count": 45,
   "metadata": {},
   "outputs": [],
   "source": [
    "dummy = ['term', 'emp_length', 'home_ownership', 'verification_status',\n",
    " 'purpose', 'pub_rec_bankruptcies', 'pub_rec']\n",
    "dset_dummy = pd.get_dummies(loans_2007, columns = dummy)"
   ]
  },
  {
   "cell_type": "markdown",
   "metadata": {},
   "source": [
    "Let's separate features from target."
   ]
  },
  {
   "cell_type": "code",
   "execution_count": 46,
   "metadata": {},
   "outputs": [],
   "source": [
    "features = dset_dummy.drop('loan_status', axis = 1)\n",
    "target = dset_dummy['loan_status']"
   ]
  },
  {
   "cell_type": "markdown",
   "metadata": {},
   "source": [
    "As an error metric, we'll use True Positives Rate (TPR) and False Positives Rate (FPR). This is dictated by our desire to be more conservative, i.e. select less negative cases. However, this will also result in the decrease of correctly identified positive cases. Let's programm a function to calculate and prit these metrics."
   ]
  },
  {
   "cell_type": "code",
   "execution_count": 47,
   "metadata": {},
   "outputs": [],
   "source": [
    "def errors(t, p):\n",
    "    # False positives.\n",
    "    fp_filter = (p == 1) & (t == 0)\n",
    "    fp = len(p[fp_filter])\n",
    "\n",
    "    # True positives.`\n",
    "    tp_filter = (p == 1) & (t == 1)\n",
    "    tp = len(p[tp_filter])\n",
    "\n",
    "    # False negatives.\n",
    "    fn_filter = (p == 0) & (t == 1)\n",
    "    fn = len(p[fn_filter])\n",
    "\n",
    "    # True negatives\n",
    "    tn_filter = (p == 0) & (t == 0)\n",
    "    tn = len(p[tn_filter])\n",
    "\n",
    "    # Rates\n",
    "    tpr = tp / (tp + fn)\n",
    "    fpr = fp / (fp + tn)\n",
    "    \n",
    "    return (tpr,fpr)\n",
    "\n",
    "def print_errors(t, p):\n",
    "    print('TPR: {:.4f}\\nFPR: {:.4f}'.format(*errors(t,p)))"
   ]
  },
  {
   "cell_type": "markdown",
   "metadata": {},
   "source": [
    "Let's start with simple logistic regression. We'll use 3-fold cross validation to ensure that we receive more correct error metrics for our models."
   ]
  },
  {
   "cell_type": "code",
   "execution_count": 48,
   "metadata": {},
   "outputs": [],
   "source": [
    "from sklearn.linear_model import LogisticRegression\n",
    "from sklearn.model_selection import cross_val_predict"
   ]
  },
  {
   "cell_type": "code",
   "execution_count": 49,
   "metadata": {},
   "outputs": [
    {
     "name": "stdout",
     "output_type": "stream",
     "text": [
      "TPR: 0.9994\n",
      "FPR: 0.9989\n"
     ]
    }
   ],
   "source": [
    "model = LogisticRegression(solver = 'liblinear')\n",
    "predictions = cross_val_predict(model, features, target, cv=3)\n",
    "print_errors(target, predictions)"
   ]
  },
  {
   "cell_type": "markdown",
   "metadata": {},
   "source": [
    "The result tells us that the model predicted 1 for almost every line. THis happened due to the share of negatives in our dataset is much less than that of positives. Let's correct this with introduction of class weight. We'll use balanced for now."
   ]
  },
  {
   "cell_type": "code",
   "execution_count": 50,
   "metadata": {},
   "outputs": [
    {
     "name": "stdout",
     "output_type": "stream",
     "text": [
      "TPR: 0.6313\n",
      "FPR: 0.3782\n"
     ]
    }
   ],
   "source": [
    "model = LogisticRegression(class_weight=\"balanced\",solver = 'liblinear')\n",
    "predictions = cross_val_predict(model, features, target, cv=3)\n",
    "print_errors(target, predictions)"
   ]
  },
  {
   "cell_type": "markdown",
   "metadata": {},
   "source": [
    "We see that the numbers decrease. A good thing is that FPR is much less han TPR now. However, this cannot be thought s a conservative scenario. Let's see if imbalancing the penalty of the model a bit more will result in better numbers."
   ]
  },
  {
   "cell_type": "code",
   "execution_count": 51,
   "metadata": {
    "scrolled": true
   },
   "outputs": [
    {
     "name": "stdout",
     "output_type": "stream",
     "text": [
      "TPR: 0.1283\n",
      "FPR: 0.0694\n"
     ]
    }
   ],
   "source": [
    "model = LogisticRegression(class_weight={0:10, 1:1},solver = 'liblinear')\n",
    "predictions = cross_val_predict(model, features, target, cv=3)\n",
    "print_errors(target, predictions)"
   ]
  },
  {
   "cell_type": "markdown",
   "metadata": {},
   "source": [
    "The share of FPR decreased significantly, but niw we predict much less positives overall, and the ratio between TPR and FPR is still not optimal. What we can improve: select fewer and more meaningful features, add a feature representing the share of calculated installment to yearly income. We haven't include states field as well, and it has some potential for improving classification. We can also try to complicate the model a bit - probably a neural network with 2 hidden layers and ReLU activation (to set probability of all probably negative cases to 0) in the first layer will show different results. We can also ensamble this model with others. \n",
    "\n",
    "Let's check random forest model now."
   ]
  },
  {
   "cell_type": "code",
   "execution_count": 52,
   "metadata": {},
   "outputs": [],
   "source": [
    "from sklearn.ensemble import RandomForestClassifier"
   ]
  },
  {
   "cell_type": "code",
   "execution_count": 53,
   "metadata": {},
   "outputs": [
    {
     "name": "stderr",
     "output_type": "stream",
     "text": [
      "D:\\Anaconda3\\lib\\site-packages\\sklearn\\ensemble\\forest.py:245: FutureWarning: The default value of n_estimators will change from 10 in version 0.20 to 100 in 0.22.\n",
      "  \"10 in version 0.20 to 100 in 0.22.\", FutureWarning)\n",
      "D:\\Anaconda3\\lib\\site-packages\\sklearn\\ensemble\\forest.py:245: FutureWarning: The default value of n_estimators will change from 10 in version 0.20 to 100 in 0.22.\n",
      "  \"10 in version 0.20 to 100 in 0.22.\", FutureWarning)\n",
      "D:\\Anaconda3\\lib\\site-packages\\sklearn\\ensemble\\forest.py:245: FutureWarning: The default value of n_estimators will change from 10 in version 0.20 to 100 in 0.22.\n",
      "  \"10 in version 0.20 to 100 in 0.22.\", FutureWarning)\n"
     ]
    },
    {
     "name": "stdout",
     "output_type": "stream",
     "text": [
      "TPR: 0.9540\n",
      "FPR: 0.8593\n"
     ]
    }
   ],
   "source": [
    "model = RandomForestClassifier(random_state = 1)\n",
    "predictions = cross_val_predict(model, features, target, cv=3)\n",
    "print_errors(target, predictions)"
   ]
  },
  {
   "cell_type": "markdown",
   "metadata": {},
   "source": [
    "We tested our dataset with dummy variables. But let's use the dataset without dummies next to see if the model will work better - it is not always required for a random forest to have dummies due to different algorythm."
   ]
  },
  {
   "cell_type": "code",
   "execution_count": 54,
   "metadata": {},
   "outputs": [],
   "source": [
    "features1 = loans_2007.drop('loan_status', axis = 1)\n",
    "target1 = loans_2007['loan_status']"
   ]
  },
  {
   "cell_type": "markdown",
   "metadata": {},
   "source": [
    "We'll need to convert str fields to numeric. Let's doo this."
   ]
  },
  {
   "cell_type": "code",
   "execution_count": 55,
   "metadata": {},
   "outputs": [
    {
     "data": {
      "text/plain": [
       "Index(['home_ownership', 'verification_status', 'purpose'], dtype='object')"
      ]
     },
     "execution_count": 55,
     "metadata": {},
     "output_type": "execute_result"
    }
   ],
   "source": [
    "features1['emp_length'] = features1['emp_length'].astype(int)\n",
    "obj_columns = features1.select_dtypes(object).columns\n",
    "obj_columns"
   ]
  },
  {
   "cell_type": "code",
   "execution_count": 56,
   "metadata": {},
   "outputs": [],
   "source": [
    "for i in obj_columns:\n",
    "    features1[i] = features1[i].astype('category').cat.codes"
   ]
  },
  {
   "cell_type": "code",
   "execution_count": 57,
   "metadata": {},
   "outputs": [
    {
     "name": "stderr",
     "output_type": "stream",
     "text": [
      "D:\\Anaconda3\\lib\\site-packages\\sklearn\\ensemble\\forest.py:245: FutureWarning: The default value of n_estimators will change from 10 in version 0.20 to 100 in 0.22.\n",
      "  \"10 in version 0.20 to 100 in 0.22.\", FutureWarning)\n",
      "D:\\Anaconda3\\lib\\site-packages\\sklearn\\ensemble\\forest.py:245: FutureWarning: The default value of n_estimators will change from 10 in version 0.20 to 100 in 0.22.\n",
      "  \"10 in version 0.20 to 100 in 0.22.\", FutureWarning)\n",
      "D:\\Anaconda3\\lib\\site-packages\\sklearn\\ensemble\\forest.py:245: FutureWarning: The default value of n_estimators will change from 10 in version 0.20 to 100 in 0.22.\n",
      "  \"10 in version 0.20 to 100 in 0.22.\", FutureWarning)\n"
     ]
    },
    {
     "name": "stdout",
     "output_type": "stream",
     "text": [
      "TPR: 0.9455\n",
      "FPR: 0.8430\n"
     ]
    }
   ],
   "source": [
    "model = RandomForestClassifier(random_state = 1)\n",
    "predictions = cross_val_predict(model, features1, target1, cv=3)\n",
    "print_errors(target, predictions)"
   ]
  },
  {
   "cell_type": "markdown",
   "metadata": {},
   "source": [
    "We see the result is different than that of logistic regression: It predicts less false positives. Let's add some class weights."
   ]
  },
  {
   "cell_type": "code",
   "execution_count": 58,
   "metadata": {},
   "outputs": [
    {
     "name": "stderr",
     "output_type": "stream",
     "text": [
      "D:\\Anaconda3\\lib\\site-packages\\sklearn\\ensemble\\forest.py:245: FutureWarning: The default value of n_estimators will change from 10 in version 0.20 to 100 in 0.22.\n",
      "  \"10 in version 0.20 to 100 in 0.22.\", FutureWarning)\n",
      "D:\\Anaconda3\\lib\\site-packages\\sklearn\\ensemble\\forest.py:245: FutureWarning: The default value of n_estimators will change from 10 in version 0.20 to 100 in 0.22.\n",
      "  \"10 in version 0.20 to 100 in 0.22.\", FutureWarning)\n",
      "D:\\Anaconda3\\lib\\site-packages\\sklearn\\ensemble\\forest.py:245: FutureWarning: The default value of n_estimators will change from 10 in version 0.20 to 100 in 0.22.\n",
      "  \"10 in version 0.20 to 100 in 0.22.\", FutureWarning)\n"
     ]
    },
    {
     "name": "stdout",
     "output_type": "stream",
     "text": [
      "TPR: 0.9613\n",
      "FPR: 0.8788\n"
     ]
    }
   ],
   "source": [
    "model = RandomForestClassifier(random_state = 1, class_weight = 'balanced')\n",
    "predictions = cross_val_predict(model, features1, target1, cv=3)\n",
    "print_errors(target, predictions)"
   ]
  },
  {
   "cell_type": "markdown",
   "metadata": {},
   "source": [
    "The TPR slightly increased, however, FPR rose as well, and with a higher margin. Let's increase the imbalance."
   ]
  },
  {
   "cell_type": "code",
   "execution_count": 59,
   "metadata": {},
   "outputs": [
    {
     "name": "stderr",
     "output_type": "stream",
     "text": [
      "D:\\Anaconda3\\lib\\site-packages\\sklearn\\ensemble\\forest.py:245: FutureWarning: The default value of n_estimators will change from 10 in version 0.20 to 100 in 0.22.\n",
      "  \"10 in version 0.20 to 100 in 0.22.\", FutureWarning)\n",
      "D:\\Anaconda3\\lib\\site-packages\\sklearn\\ensemble\\forest.py:245: FutureWarning: The default value of n_estimators will change from 10 in version 0.20 to 100 in 0.22.\n",
      "  \"10 in version 0.20 to 100 in 0.22.\", FutureWarning)\n",
      "D:\\Anaconda3\\lib\\site-packages\\sklearn\\ensemble\\forest.py:245: FutureWarning: The default value of n_estimators will change from 10 in version 0.20 to 100 in 0.22.\n",
      "  \"10 in version 0.20 to 100 in 0.22.\", FutureWarning)\n"
     ]
    },
    {
     "name": "stdout",
     "output_type": "stream",
     "text": [
      "TPR: 0.9633\n",
      "FPR: 0.8914\n"
     ]
    }
   ],
   "source": [
    "model = RandomForestClassifier(random_state = 1, class_weight = {0:10, 1:1})\n",
    "predictions = cross_val_predict(model, features1, target1, cv=3)\n",
    "print_errors(target, predictions)"
   ]
  },
  {
   "cell_type": "markdown",
   "metadata": {},
   "source": [
    "We actually see that the model did not become being better. Let's switch the weights out of curiosity."
   ]
  },
  {
   "cell_type": "code",
   "execution_count": 60,
   "metadata": {},
   "outputs": [
    {
     "name": "stderr",
     "output_type": "stream",
     "text": [
      "D:\\Anaconda3\\lib\\site-packages\\sklearn\\ensemble\\forest.py:245: FutureWarning: The default value of n_estimators will change from 10 in version 0.20 to 100 in 0.22.\n",
      "  \"10 in version 0.20 to 100 in 0.22.\", FutureWarning)\n",
      "D:\\Anaconda3\\lib\\site-packages\\sklearn\\ensemble\\forest.py:245: FutureWarning: The default value of n_estimators will change from 10 in version 0.20 to 100 in 0.22.\n",
      "  \"10 in version 0.20 to 100 in 0.22.\", FutureWarning)\n",
      "D:\\Anaconda3\\lib\\site-packages\\sklearn\\ensemble\\forest.py:245: FutureWarning: The default value of n_estimators will change from 10 in version 0.20 to 100 in 0.22.\n",
      "  \"10 in version 0.20 to 100 in 0.22.\", FutureWarning)\n"
     ]
    },
    {
     "name": "stdout",
     "output_type": "stream",
     "text": [
      "TPR: 0.9218\n",
      "FPR: 0.7755\n"
     ]
    }
   ],
   "source": [
    "model = RandomForestClassifier(random_state = 1, class_weight = {0:1, 1:10})\n",
    "predictions = cross_val_predict(model, features1, target1, cv=3)\n",
    "print_errors(target, predictions)"
   ]
  },
  {
   "cell_type": "markdown",
   "metadata": {},
   "source": [
    "Well, that's an interesting result. While penalising the incorrect classification of positive classes more, the TPR decreased. And FPR decreased even more."
   ]
  },
  {
   "cell_type": "markdown",
   "metadata": {},
   "source": [
    "**Let's stop here for now.**\n",
    "\n",
    "Some thoughts for future exploration:\n",
    "We need to add the state field to the features but the states should be clustered by their risk first. Next, we need to add a share of installment to income. And overall, we have not spent time on analysis of selected features - that seems to be required in order to get better results.\n",
    "\n",
    "Also, it is interesting to see if a neural network with several layers and a gombination of logistic and relu activation would show potential.\n",
    "\n",
    "We'll come to this exercise later."
   ]
  }
 ],
 "metadata": {
  "kernelspec": {
   "display_name": "Python 3",
   "language": "python",
   "name": "python3"
  },
  "language_info": {
   "codemirror_mode": {
    "name": "ipython",
    "version": 3
   },
   "file_extension": ".py",
   "mimetype": "text/x-python",
   "name": "python",
   "nbconvert_exporter": "python",
   "pygments_lexer": "ipython3",
   "version": "3.7.4"
  }
 },
 "nbformat": 4,
 "nbformat_minor": 2
}
